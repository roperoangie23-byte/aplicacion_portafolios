{
  "nbformat": 4,
  "nbformat_minor": 0,
  "metadata": {
    "colab": {
      "provenance": [],
      "authorship_tag": "ABX9TyPdY46P+dXoewXYNTDY26gx",
      "include_colab_link": true
    },
    "kernelspec": {
      "name": "python3",
      "display_name": "Python 3"
    },
    "language_info": {
      "name": "python"
    }
  },
  "cells": [
    {
      "cell_type": "markdown",
      "metadata": {
        "id": "view-in-github",
        "colab_type": "text"
      },
      "source": [
        "<a href=\"https://colab.research.google.com/github/roperoangie23-byte/aplicacion_portafolios/blob/main/institucional_grupo10.ipynb\" target=\"_parent\"><img src=\"https://colab.research.google.com/assets/colab-badge.svg\" alt=\"Open In Colab\"/></a>"
      ]
    },
    {
      "cell_type": "code",
      "execution_count": null,
      "metadata": {
        "colab": {
          "base_uri": "https://localhost:8080/"
        },
        "id": "dgm0PHYKUjaz",
        "outputId": "6adad89a-d7bb-4db6-b3f4-e929875cf510"
      },
      "outputs": [
        {
          "output_type": "stream",
          "name": "stdout",
          "text": [
            "Requirement already satisfied: streamlit in /usr/local/lib/python3.12/dist-packages (1.50.0)\n",
            "Requirement already satisfied: altair!=5.4.0,!=5.4.1,<6,>=4.0 in /usr/local/lib/python3.12/dist-packages (from streamlit) (5.5.0)\n",
            "Requirement already satisfied: blinker<2,>=1.5.0 in /usr/local/lib/python3.12/dist-packages (from streamlit) (1.9.0)\n",
            "Requirement already satisfied: cachetools<7,>=4.0 in /usr/local/lib/python3.12/dist-packages (from streamlit) (5.5.2)\n",
            "Requirement already satisfied: click<9,>=7.0 in /usr/local/lib/python3.12/dist-packages (from streamlit) (8.3.0)\n",
            "Requirement already satisfied: numpy<3,>=1.23 in /usr/local/lib/python3.12/dist-packages (from streamlit) (2.0.2)\n",
            "Requirement already satisfied: packaging<26,>=20 in /usr/local/lib/python3.12/dist-packages (from streamlit) (25.0)\n",
            "Requirement already satisfied: pandas<3,>=1.4.0 in /usr/local/lib/python3.12/dist-packages (from streamlit) (2.2.2)\n",
            "Requirement already satisfied: pillow<12,>=7.1.0 in /usr/local/lib/python3.12/dist-packages (from streamlit) (11.3.0)\n",
            "Requirement already satisfied: protobuf<7,>=3.20 in /usr/local/lib/python3.12/dist-packages (from streamlit) (5.29.5)\n",
            "Requirement already satisfied: pyarrow>=7.0 in /usr/local/lib/python3.12/dist-packages (from streamlit) (18.1.0)\n",
            "Requirement already satisfied: requests<3,>=2.27 in /usr/local/lib/python3.12/dist-packages (from streamlit) (2.32.4)\n",
            "Requirement already satisfied: tenacity<10,>=8.1.0 in /usr/local/lib/python3.12/dist-packages (from streamlit) (8.5.0)\n",
            "Requirement already satisfied: toml<2,>=0.10.1 in /usr/local/lib/python3.12/dist-packages (from streamlit) (0.10.2)\n",
            "Requirement already satisfied: typing-extensions<5,>=4.4.0 in /usr/local/lib/python3.12/dist-packages (from streamlit) (4.15.0)\n",
            "Requirement already satisfied: watchdog<7,>=2.1.5 in /usr/local/lib/python3.12/dist-packages (from streamlit) (6.0.0)\n",
            "Requirement already satisfied: gitpython!=3.1.19,<4,>=3.0.7 in /usr/local/lib/python3.12/dist-packages (from streamlit) (3.1.45)\n",
            "Requirement already satisfied: pydeck<1,>=0.8.0b4 in /usr/local/lib/python3.12/dist-packages (from streamlit) (0.9.1)\n",
            "Requirement already satisfied: tornado!=6.5.0,<7,>=6.0.3 in /usr/local/lib/python3.12/dist-packages (from streamlit) (6.4.2)\n",
            "Requirement already satisfied: jinja2 in /usr/local/lib/python3.12/dist-packages (from altair!=5.4.0,!=5.4.1,<6,>=4.0->streamlit) (3.1.6)\n",
            "Requirement already satisfied: jsonschema>=3.0 in /usr/local/lib/python3.12/dist-packages (from altair!=5.4.0,!=5.4.1,<6,>=4.0->streamlit) (4.25.1)\n",
            "Requirement already satisfied: narwhals>=1.14.2 in /usr/local/lib/python3.12/dist-packages (from altair!=5.4.0,!=5.4.1,<6,>=4.0->streamlit) (2.6.0)\n",
            "Requirement already satisfied: gitdb<5,>=4.0.1 in /usr/local/lib/python3.12/dist-packages (from gitpython!=3.1.19,<4,>=3.0.7->streamlit) (4.0.12)\n",
            "Requirement already satisfied: python-dateutil>=2.8.2 in /usr/local/lib/python3.12/dist-packages (from pandas<3,>=1.4.0->streamlit) (2.9.0.post0)\n",
            "Requirement already satisfied: pytz>=2020.1 in /usr/local/lib/python3.12/dist-packages (from pandas<3,>=1.4.0->streamlit) (2025.2)\n",
            "Requirement already satisfied: tzdata>=2022.7 in /usr/local/lib/python3.12/dist-packages (from pandas<3,>=1.4.0->streamlit) (2025.2)\n",
            "Requirement already satisfied: charset_normalizer<4,>=2 in /usr/local/lib/python3.12/dist-packages (from requests<3,>=2.27->streamlit) (3.4.3)\n",
            "Requirement already satisfied: idna<4,>=2.5 in /usr/local/lib/python3.12/dist-packages (from requests<3,>=2.27->streamlit) (3.10)\n",
            "Requirement already satisfied: urllib3<3,>=1.21.1 in /usr/local/lib/python3.12/dist-packages (from requests<3,>=2.27->streamlit) (2.5.0)\n",
            "Requirement already satisfied: certifi>=2017.4.17 in /usr/local/lib/python3.12/dist-packages (from requests<3,>=2.27->streamlit) (2025.8.3)\n",
            "Requirement already satisfied: smmap<6,>=3.0.1 in /usr/local/lib/python3.12/dist-packages (from gitdb<5,>=4.0.1->gitpython!=3.1.19,<4,>=3.0.7->streamlit) (5.0.2)\n",
            "Requirement already satisfied: MarkupSafe>=2.0 in /usr/local/lib/python3.12/dist-packages (from jinja2->altair!=5.4.0,!=5.4.1,<6,>=4.0->streamlit) (3.0.3)\n",
            "Requirement already satisfied: attrs>=22.2.0 in /usr/local/lib/python3.12/dist-packages (from jsonschema>=3.0->altair!=5.4.0,!=5.4.1,<6,>=4.0->streamlit) (25.3.0)\n",
            "Requirement already satisfied: jsonschema-specifications>=2023.03.6 in /usr/local/lib/python3.12/dist-packages (from jsonschema>=3.0->altair!=5.4.0,!=5.4.1,<6,>=4.0->streamlit) (2025.9.1)\n",
            "Requirement already satisfied: referencing>=0.28.4 in /usr/local/lib/python3.12/dist-packages (from jsonschema>=3.0->altair!=5.4.0,!=5.4.1,<6,>=4.0->streamlit) (0.36.2)\n",
            "Requirement already satisfied: rpds-py>=0.7.1 in /usr/local/lib/python3.12/dist-packages (from jsonschema>=3.0->altair!=5.4.0,!=5.4.1,<6,>=4.0->streamlit) (0.27.1)\n",
            "Requirement already satisfied: six>=1.5 in /usr/local/lib/python3.12/dist-packages (from python-dateutil>=2.8.2->pandas<3,>=1.4.0->streamlit) (1.17.0)\n"
          ]
        }
      ],
      "source": [
        "%pip install streamlit"
      ]
    },
    {
      "cell_type": "markdown",
      "source": [
        "%pip install instala las librerías necesarias (solo se ejecuta una vez en tu entorno, no dentro de la app)."
      ],
      "metadata": {
        "id": "I4lmsrM4doNt"
      }
    },
    {
      "cell_type": "code",
      "source": [
        "#Importamos las librerias\n",
        "import streamlit as st\n",
        "import pandas as pd\n",
        "import yfinance as yf"
      ],
      "metadata": {
        "id": "gPO1aOlhUot2"
      },
      "execution_count": null,
      "outputs": []
    },
    {
      "cell_type": "markdown",
      "source": [
        "streamlit → construye la interfaz web interactiva.\n",
        "\n",
        "pandas → maneja los datos en forma de tablas (DataFrames).\n",
        "\n",
        "yfinance → descarga los precios históricos de las acciones."
      ],
      "metadata": {
        "id": "nJzx61q_d0HU"
      }
    },
    {
      "cell_type": "code",
      "source": [
        "st.title(\"BIENVENIDOS AL GRUPO 10\")\n",
        "st.markdown(\n",
        "    \"\"\"\n",
        "    <h1 style='text-align: center; color: #1E90FF;'>\n",
        "        BIENVENIDOS AL GRUPO 10 💼\n",
        "    </h1>\"\"\",\n",
        "    unsafe_allow_html=True)\n",
        "\n",
        "st.header(\"Análisis de Rentabilidad y Riesgo 📊\")\n",
        "st.write(\"\"\"Este proyecto analiza el comportamiento financiero de tres grandes empresas colombianas.\n",
        "        A través de indicadores como la <b>rentabilidad esperada</b>, la <b>volatilidad</b> y el <b>Ratio de Sharpe</b>,\n",
        "        evaluamos la relación entre riesgo y retorno para identificar el portafolio más eficiente. 🇨🇴💼\"\"\")"
      ],
      "metadata": {
        "colab": {
          "base_uri": "https://localhost:8080/"
        },
        "id": "pXC4hSdSUstq",
        "outputId": "8d99a3c7-c245-423f-8cc2-e24c1b723f0f"
      },
      "execution_count": null,
      "outputs": [
        {
          "output_type": "stream",
          "name": "stderr",
          "text": [
            "2025-10-09 14:22:14.765 WARNING streamlit.runtime.scriptrunner_utils.script_run_context: Thread 'MainThread': missing ScriptRunContext! This warning can be ignored when running in bare mode.\n",
            "2025-10-09 14:22:14.938 \n",
            "  \u001b[33m\u001b[1mWarning:\u001b[0m to view this Streamlit app on a browser, run it with the following\n",
            "  command:\n",
            "\n",
            "    streamlit run /usr/local/lib/python3.12/dist-packages/colab_kernel_launcher.py [ARGUMENTS]\n",
            "2025-10-09 14:22:14.939 Thread 'MainThread': missing ScriptRunContext! This warning can be ignored when running in bare mode.\n",
            "2025-10-09 14:22:14.941 Thread 'MainThread': missing ScriptRunContext! This warning can be ignored when running in bare mode.\n",
            "2025-10-09 14:22:14.942 Thread 'MainThread': missing ScriptRunContext! This warning can be ignored when running in bare mode.\n",
            "2025-10-09 14:22:14.944 Thread 'MainThread': missing ScriptRunContext! This warning can be ignored when running in bare mode.\n",
            "2025-10-09 14:22:14.945 Thread 'MainThread': missing ScriptRunContext! This warning can be ignored when running in bare mode.\n",
            "2025-10-09 14:22:14.947 Thread 'MainThread': missing ScriptRunContext! This warning can be ignored when running in bare mode.\n",
            "2025-10-09 14:22:14.949 Thread 'MainThread': missing ScriptRunContext! This warning can be ignored when running in bare mode.\n",
            "2025-10-09 14:22:14.951 Thread 'MainThread': missing ScriptRunContext! This warning can be ignored when running in bare mode.\n",
            "2025-10-09 14:22:14.952 Thread 'MainThread': missing ScriptRunContext! This warning can be ignored when running in bare mode.\n",
            "2025-10-09 14:22:14.953 Thread 'MainThread': missing ScriptRunContext! This warning can be ignored when running in bare mode.\n",
            "2025-10-09 14:22:14.954 Thread 'MainThread': missing ScriptRunContext! This warning can be ignored when running in bare mode.\n"
          ]
        }
      ]
    },
    {
      "cell_type": "markdown",
      "source": [
        "st.markdown() muestra texto HTML con formato (colores, tamaños, alineación).\n",
        "\n",
        "unsafe_allow_html=True le permite interpretar etiquetas HTML.\n",
        "\n",
        "Es básicamente una forma bonita de mostrar el título principal.\n",
        "\n",
        "💡 En Streamlit también podrías usar st.title(), pero con markdown puedes personalizar mucho más."
      ],
      "metadata": {
        "id": "IiBpPd8Beavv"
      }
    },
    {
      "cell_type": "code",
      "source": [
        "#tickter inicial\n",
        "diccionario_tickers = {\"Ecopetrol\": \"EC\",\n",
        "    \"Bancolombia\": \"CIB\",\n",
        "    \"Grupo Aval\": \"AVAL\",\n",
        "    \"Grupo Sura\": \"GIVSY\"}"
      ],
      "metadata": {
        "id": "oCKHXhnwWgdt"
      },
      "execution_count": null,
      "outputs": []
    },
    {
      "cell_type": "markdown",
      "source": [
        "El diccionario,  esto está buenísimo si quieremos manejar nombres más legibles para el usuario 👏"
      ],
      "metadata": {
        "id": "CUvrsYOqYffF"
      }
    },
    {
      "cell_type": "code",
      "source": [
        "#multiselector\n",
        "tickers_seleccionados = st.multiselect(\"Elija una o más empresas para analizar:\", list(diccionario_tickers.keys()))"
      ],
      "metadata": {
        "colab": {
          "base_uri": "https://localhost:8080/"
        },
        "id": "scyTesQnYtEx",
        "outputId": "36014481-49e0-45f3-d323-dc1779882ba1"
      },
      "execution_count": null,
      "outputs": [
        {
          "output_type": "stream",
          "name": "stderr",
          "text": [
            "2025-10-09 14:58:45.474 Thread 'MainThread': missing ScriptRunContext! This warning can be ignored when running in bare mode.\n",
            "2025-10-09 14:58:45.476 Thread 'MainThread': missing ScriptRunContext! This warning can be ignored when running in bare mode.\n",
            "2025-10-09 14:58:45.478 Thread 'MainThread': missing ScriptRunContext! This warning can be ignored when running in bare mode.\n",
            "2025-10-09 14:58:45.480 Thread 'MainThread': missing ScriptRunContext! This warning can be ignored when running in bare mode.\n",
            "2025-10-09 14:58:45.481 Thread 'MainThread': missing ScriptRunContext! This warning can be ignored when running in bare mode.\n",
            "2025-10-09 14:58:45.483 Thread 'MainThread': missing ScriptRunContext! This warning can be ignored when running in bare mode.\n"
          ]
        }
      ]
    },
    {
      "cell_type": "markdown",
      "source": [
        "Multiselect: te permite elegir las empresas que quieres analizar."
      ],
      "metadata": {
        "id": "5ykJ7XPBfv6N"
      }
    },
    {
      "cell_type": "code",
      "source": [
        "# Imagen decorativa\n",
        "st.image(\"https://cdn.pixabay.com/photo/2017/06/16/07/37/stock-exchange-2408858_1280.jpg\", use_column_width=True)"
      ],
      "metadata": {
        "colab": {
          "base_uri": "https://localhost:8080/"
        },
        "id": "NKY4mYAOZXof",
        "outputId": "4e85bf27-6bed-41e4-ca6d-9cb5de0d07d5"
      },
      "execution_count": null,
      "outputs": [
        {
          "output_type": "stream",
          "name": "stderr",
          "text": [
            "2025-10-09 14:58:52.443 Thread 'MainThread': missing ScriptRunContext! This warning can be ignored when running in bare mode.\n",
            "2025-10-09 14:58:52.444 Thread 'MainThread': missing ScriptRunContext! This warning can be ignored when running in bare mode.\n",
            "2025-10-09 14:58:52.446 Thread 'MainThread': missing ScriptRunContext! This warning can be ignored when running in bare mode.\n",
            "2025-10-09 14:58:52.446 The `use_column_width` parameter has been deprecated and will be removed in a future release. Please utilize the `use_container_width` parameter instead.\n",
            "2025-10-09 14:58:52.447 Thread 'MainThread': missing ScriptRunContext! This warning can be ignored when running in bare mode.\n",
            "2025-10-09 14:58:52.448 Thread 'MainThread': missing ScriptRunContext! This warning can be ignored when running in bare mode.\n",
            "2025-10-09 14:58:52.450 Thread 'MainThread': missing ScriptRunContext! This warning can be ignored when running in bare mode.\n",
            "2025-10-09 14:58:52.450 Thread 'MainThread': missing ScriptRunContext! This warning can be ignored when running in bare mode.\n"
          ]
        },
        {
          "output_type": "execute_result",
          "data": {
            "text/plain": [
              "DeltaGenerator()"
            ]
          },
          "metadata": {},
          "execution_count": 23
        }
      ]
    },
    {
      "cell_type": "markdown",
      "source": [],
      "metadata": {
        "id": "EI-ol3NYf1rh"
      }
    },
    {
      "cell_type": "code",
      "source": [
        "#  Botón para calcular rentabilidad y riesgo\n",
        "\n",
        "if st.button(\"Calcular Rentabilidad y Riesgo\"):\n",
        "    if not tickers_seleccionados:\n",
        "        st.warning(\"Selecciona al menos una empresa para continuar.\")\n",
        "    else:\n",
        "        # Descargar datos históricos\n",
        "        tickers_yf = [lista_tickers[t] for t in tickers_seleccionados]\n",
        "        data = yf.download(tickers=tickers_yf, period=\"6mo\")[\"Close\"]\n",
        "\n",
        "        # Calcular rentabilidades diarias\n",
        "        rent_diaria = data.pct_change().dropna()\n",
        "\n",
        "        # Calcular métricas\n",
        "        rent_promedio = rent_diaria.mean() * 252  # anualizada\n",
        "        riesgo = rent_diaria.std() * (252 ** 0.5)  # desviación estándar anualizada\n",
        "        sharpe = rent_promedio / riesgo\n",
        "\n",
        "        # Crear DataFrame resumen\n",
        "        resumen = pd.DataFrame({\n",
        "            \"Rentabilidad esperada (%)\": rent_promedio * 100,\n",
        "            \"Riesgo (Volatilidad %)\": riesgo * 100,\n",
        "            \"Ratio Sharpe\": sharpe\n",
        "        })\n",
        "\n",
        "        # Mostrar resultados\n",
        "        st.subheader(\" Comparación de Empresas:\")\n",
        "        st.dataframe(resumen.style.format(\"{:.2f}\"))\n",
        "\n",
        "        #Gráfico de comparación\n",
        "        st.subheader(\"Gráfico de Rentabilidad vs Riesgo\")\n",
        "        fig, ax = plt.subplots()\n",
        "        ax.scatter(riesgo * 100, rent_promedio * 100, color=\"blue\")\n",
        "\n",
        "        for i, txt in enumerate(resumen.index):\n",
        "            ax.annotate(txt, (riesgo[i] * 100, rent_promedio[i] * 100))\n",
        "\n",
        "        ax.set_xlabel(\"Riesgo (Volatilidad %)\")\n",
        "        ax.set_ylabel(\"Rentabilidad Esperada (%)\")\n",
        "        ax.set_title(\"Rendimiento vs Riesgo\")\n",
        "        st.pyplot(fig)\n",
        "else:\n",
        "    st.info(\"Presiona el botón para analizar la rentabilidad y riesgo de las empresas seleccionadas.\")"
      ],
      "metadata": {
        "colab": {
          "base_uri": "https://localhost:8080/"
        },
        "id": "zwJ99JuYdBjd",
        "outputId": "684007df-3754-41f9-80e8-654af54525a9"
      },
      "execution_count": null,
      "outputs": [
        {
          "output_type": "stream",
          "name": "stderr",
          "text": [
            "2025-10-09 15:07:32.411 Thread 'MainThread': missing ScriptRunContext! This warning can be ignored when running in bare mode.\n",
            "2025-10-09 15:07:32.412 Thread 'MainThread': missing ScriptRunContext! This warning can be ignored when running in bare mode.\n",
            "2025-10-09 15:07:32.414 Thread 'MainThread': missing ScriptRunContext! This warning can be ignored when running in bare mode.\n",
            "2025-10-09 15:07:32.415 Thread 'MainThread': missing ScriptRunContext! This warning can be ignored when running in bare mode.\n",
            "2025-10-09 15:07:32.416 Thread 'MainThread': missing ScriptRunContext! This warning can be ignored when running in bare mode.\n",
            "2025-10-09 15:07:32.417 Thread 'MainThread': missing ScriptRunContext! This warning can be ignored when running in bare mode.\n",
            "2025-10-09 15:07:32.418 Thread 'MainThread': missing ScriptRunContext! This warning can be ignored when running in bare mode.\n",
            "2025-10-09 15:07:32.419 Thread 'MainThread': missing ScriptRunContext! This warning can be ignored when running in bare mode.\n",
            "2025-10-09 15:07:32.420 Thread 'MainThread': missing ScriptRunContext! This warning can be ignored when running in bare mode.\n"
          ]
        }
      ]
    },
    {
      "cell_type": "markdown",
      "source": [
        "\n",
        "Botón: descarga precios de los últimos 6 meses con yfinance.\n",
        "\n",
        "**Cálculos:**\n",
        "\n",
        "*Rentabilidad esperada* = media anualizada de los retornos diarios.\n",
        "\n",
        "*Riesgo* = desviación estándar anualizada (volatilidad).\n",
        "\n",
        "*Ratio de Sharpe* = mide la eficiencia riesgo/rentabilidad.\n",
        "\n",
        "**Tabla**: compara las métricas de todas las empresas.\n",
        "\n",
        "**Gráfico**: visualiza la relación riesgo–rentabilidad.\n",
        "\n",
        "**Imagen**: embellece la interfaz"
      ],
      "metadata": {
        "id": "TFRh3PaXg4d_"
      }
    }
  ]
}